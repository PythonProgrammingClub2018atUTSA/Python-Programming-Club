{
 "cells": [
  {
   "cell_type": "code",
   "execution_count": null,
   "metadata": {},
   "outputs": [],
   "source": [
    "### This will not be a well-commented notebook. I am still learning what everything else means. \n",
    "### This notebook is meant to be an exploration into these methods, with input from anyone who \n",
    "### has ideas or questions for improvement\n",
    "### THis notebook plots a 2-D velocity distribution function for He+ measurements obtatined from\n",
    "### the MMS mission"
   ]
  },
  {
   "cell_type": "code",
   "execution_count": 111,
   "metadata": {},
   "outputs": [],
   "source": [
    "#To start, import the modules you'll need:\n",
    "import numpy as np\n",
    "import csv\n",
    "import matplotlib as mp\n",
    "import matplotlib.pyplot as plt\n",
    "import matplotlib.cm as mcm\n",
    "from matplotlib import pyplot, image\n",
    "from astropy.io import ascii\n",
    "import scipy"
   ]
  },
  {
   "cell_type": "code",
   "execution_count": 112,
   "metadata": {},
   "outputs": [],
   "source": [
    "# Read in the file to plot using csv reader and convert to a float array\n",
    "reader = csv.reader(open(\"MMS_VDF_example_SW_He_NEW_mms34_hpca_srvy_l3_avg-distr-heplus-kost00to43_20151205084700_v3.2.0.csv\", \"rt\"), delimiter=\",\")\n",
    "x = list(reader)\n",
    "vdf = np.array(x).astype(\"float\")\n",
    "\n"
   ]
  },
  {
   "cell_type": "code",
   "execution_count": 113,
   "metadata": {},
   "outputs": [],
   "source": [
    "# values of 0.0 indicate no data in that respective velocity point. So that these values do not\n",
    "# skew the color scheme in our final product, we set these values to 'nan'\n",
    "for i in range(len(vdf)):\n",
    "    line = vdf[i]\n",
    "    for j in range(len(line)):\n",
    "        if vdf[i][j] ==  0.0:\n",
    "            vdf[i][j] = np.nan\n",
    "\n",
    "# Data values differ by orders of magnitude, so we will plot them in log space. Convert data to \n",
    "# logspace and then mask both arrays. As I understand it, the mask keyword will prevent 'hide' the\n",
    "# 'nan' data values from the plotting functions\n",
    "logvdf = np.log10(vdf)\n",
    "masked_array = np.ma.array(vdf, mask=np.isnan(vdf))\n",
    "masked_log_array = np.ma.array(logvdf, mask=np.isnan(logvdf))"
   ]
  },
  {
   "cell_type": "code",
   "execution_count": 93,
   "metadata": {},
   "outputs": [],
   "source": [
    "# Create a list of string labels for the color bar. \n",
    "min_logvdf = np.min(masked_log_array)\n",
    "max_logvdf = np.max(masked_log_array)\n",
    "cbar_label_min = np.ceil(min_logvdf)\n",
    "cbar_label_max = np.floor(max_logvdf)\n",
    "n_labels = cbar_label_max - cbar_label_min+1\n",
    "### OR ###\n",
    "#n_labels = np.floor(np.max(masked_log_array)) - np.ceil(np.min(masked_log_array))+1\n",
    "\n",
    "# Create and fill Colorbar list of labels\n",
    "cbar_labels = list()\n",
    "for i in range(int(n_labels)):\n",
    "    cbar_labels.append(cbar_label_min+i)\n",
    "cbar_labels = np.power(10,cbar_labels)\n",
    "for i in range(len(cbar_labels)):\n",
    "    cbar_labels[i] = str(cbar_labels[i])\n",
    "\n"
   ]
  },
  {
   "cell_type": "code",
   "execution_count": 94,
   "metadata": {},
   "outputs": [
    {
     "data": {
      "text/plain": [
       "array([1.e-29, 1.e-28, 1.e-27, 1.e-26, 1.e-25])"
      ]
     },
     "execution_count": 94,
     "metadata": {},
     "output_type": "execute_result"
    }
   ],
   "source": [
    "# View colorbar labels\n",
    "cbar_labels\n"
   ]
  },
  {
   "cell_type": "code",
   "execution_count": 95,
   "metadata": {},
   "outputs": [
    {
     "data": {
      "image/png": "[encoded data removed]",
      "text/plain": [
       "<matplotlib.figure.Figure at 0x11f1edb38>"
      ]
     },
     "metadata": {},
     "output_type": "display_data"
    }
   ],
   "source": [
    "### Create figure window and axes object\n",
    "f = plt.figure()\n",
    "ax = f.add_subplot(111)\n",
    "\n",
    "### Choose colormap a\n",
    "cmap = mcm.jet\n",
    "#cmap = mcm.ocean\n",
    "#cmap = mcm.flag\n",
    "#cmap = mcm.rainbow\n",
    "\n",
    "### Set the masked values to appear as a specific color\n",
    "cmap.set_bad('white',1.)\n",
    "#cmap.set_bad('black',1.)\n",
    "#cmap.set_bad('green',1.)\n",
    "\n",
    "### Provide labels for the image and axes \n",
    "ax.set_title('SW He+ VDF from MMS34')\n",
    "ax.set_ylabel('Vperp (km/s)')\n",
    "ax.set_xlabel('Vpar (km/s)')\n",
    "\n",
    "### Show the image and set axes ranges\n",
    "plt.imshow(masked_log_array,interpolation = 'nearest', cmap=cmap,extent = [-1200,1200,1200,0])\n",
    "\n",
    "### Create and format colorbar\n",
    "cbar = plt.colorbar(orientation='vertical')\n",
    "cbar.ax.set_yticklabels(cbar_labels)\n",
    "cbar.set_label('PSD s$^3$ m$^{-6}$',rotation = 270,labelpad = 20)\n",
    "\n",
    "\n"
   ]
  },
  {
   "cell_type": "code",
   "execution_count": 108,
   "metadata": {},
   "outputs": [
    {
     "name": "stderr",
     "output_type": "stream",
     "text": [
      "/Users/mstarkey/anaconda/lib/python3.6/site-packages/matplotlib/scale.py:111: RuntimeWarning: invalid value encountered in less_equal\n",
      "  out[a <= 0] = -1000\n"
     ]
    },
    {
     "data": {
      "image/png": "[encoded data removed]",
      "text/plain": [
       "<matplotlib.figure.Figure at 0x11f246c18>"
      ]
     },
     "metadata": {},
     "output_type": "display_data"
    }
   ],
   "source": [
    "### Create perpendicular and parallel slices of the distribution for plotting purposes\n",
    "xperp = np.linspace(20.,1180.,30)\n",
    "xpar = np.linspace(-1180.,1180.,60)\n",
    "Vperp = vdf.sum(axis=1)\n",
    "Vpar = vdf.sum(axis=0)\n",
    "\n",
    "# Normalize the velocities to solar wind speed (330 km/s)\n",
    "xpar = xpar/330\n",
    "xperp = xperp/330\n",
    "\n",
    "### Plot parallel f(Vpar)\n",
    "fig_par = plt.figure()\n",
    "ax_par = fig_par.add_subplot(121)\n",
    "fig_par = plt.loglog(xpar,Vpar)\n",
    "#ax_par.set_title('f(Vpar)')\n",
    "#ax_par.set_ylabel('PSD s$^3$ m$^{-6}$')\n",
    "#ax_par.set_xlabel(r'$\\frac{V_{par} - V_{SW}}{V_{SW}}$')\n",
    "\n",
    "### Plot parallel f(Vperp)\n",
    "fig_perp = plt.figure()\n",
    "ax_perp = fig_perp.add_subplot(121)\n",
    "fig_perp = plt.loglog(xperp,Vperp)\n",
    "ax_perp.set_title('f(Vperp)')\n",
    "ax_perp.set_ylabel('PSD s$^3$ m$^{-6}$')\n",
    "ax_perp.set_xlabel(r'$\\frac{V_{perp} - V_{SW}}{V_{SW}}$')\n",
    "\n",
    "\n",
    "\n",
    "\n"
   ]
  },
  {
   "cell_type": "code",
   "execution_count": 69,
   "metadata": {},
   "outputs": [
    {
     "data": {
      "text/plain": [
       "array([-3.57575758, -3.45454545, -3.33333333, -3.21212121, -3.09090909,\n",
       "       -2.96969697, -2.84848485, -2.72727273, -2.60606061, -2.48484848,\n",
       "       -2.36363636, -2.24242424, -2.12121212, -2.        , -1.87878788,\n",
       "       -1.75757576, -1.63636364, -1.51515152, -1.39393939, -1.27272727,\n",
       "       -1.15151515, -1.03030303, -0.90909091, -0.78787879, -0.66666667,\n",
       "       -0.54545455, -0.42424242, -0.3030303 , -0.18181818, -0.06060606,\n",
       "        0.06060606,  0.18181818,  0.3030303 ,  0.42424242,  0.54545455,\n",
       "        0.66666667,  0.78787879,  0.90909091,  1.03030303,  1.15151515,\n",
       "        1.27272727,  1.39393939,  1.51515152,  1.63636364,  1.75757576,\n",
       "        1.87878788,  2.        ,  2.12121212,  2.24242424,  2.36363636,\n",
       "        2.48484848,  2.60606061,  2.72727273,  2.84848485,  2.96969697,\n",
       "        3.09090909,  3.21212121,  3.33333333,  3.45454545,  3.57575758])"
      ]
     },
     "execution_count": 69,
     "metadata": {},
     "output_type": "execute_result"
    }
   ],
   "source": [
    "fig_perp = plt.figure()\n",
    "ax_perp = fig_perp.add_subplot(121)\n",
    "fig_perp = plt.loglog(xperp,Vperp)\n",
    "ax_perp.set_title('f(Vperp)')\n",
    "ax_perp.set_ylabel('PSD s$^3$ m$^{-6}$')\n",
    "ax_perp.set_xlabel(r'$\\frac{V_{perp} - V_{SW}}{V_{SW}}$')\n",
    "\n",
    "\n",
    "\n"
   ]
  },
  {
   "cell_type": "code",
   "execution_count": 110,
   "metadata": {},
   "outputs": [
    {
     "data": {
      "text/plain": [
       "60"
      ]
     },
     "execution_count": 110,
     "metadata": {},
     "output_type": "execute_result"
    }
   ],
   "source": [
    "len(xpar)"
   ]
  },
  {
   "cell_type": "code",
   "execution_count": null,
   "metadata": {},
   "outputs": [],
   "source": []
  },
  {
   "cell_type": "code",
   "execution_count": 50,
   "metadata": {},
   "outputs": [
    {
     "data": {
      "text/plain": [
       "array([-0.01083563, -0.01046832, -0.01010101, -0.0097337 , -0.00936639,\n",
       "       -0.00899908, -0.00863177, -0.00826446, -0.00789715, -0.00752984,\n",
       "       -0.00716253, -0.00679522, -0.00642792, -0.00606061, -0.0056933 ,\n",
       "       -0.00532599, -0.00495868, -0.00459137, -0.00422406, -0.00385675,\n",
       "       -0.00348944, -0.00312213, -0.00275482, -0.00238751, -0.0020202 ,\n",
       "       -0.00165289, -0.00128558, -0.00091827, -0.00055096, -0.00018365,\n",
       "        0.00018365,  0.00055096,  0.00091827,  0.00128558,  0.00165289,\n",
       "        0.0020202 ,  0.00238751,  0.00275482,  0.00312213,  0.00348944,\n",
       "        0.00385675,  0.00422406,  0.00459137,  0.00495868,  0.00532599,\n",
       "        0.0056933 ,  0.00606061,  0.00642792,  0.00679522,  0.00716253,\n",
       "        0.00752984,  0.00789715,  0.00826446,  0.00863177,  0.00899908,\n",
       "        0.00936639,  0.0097337 ,  0.01010101,  0.01046832,  0.01083563])"
      ]
     },
     "execution_count": 50,
     "metadata": {},
     "output_type": "execute_result"
    }
   ],
   "source": [
    "xpar = xpar/330.\n",
    "xpar"
   ]
  },
  {
   "cell_type": "code",
   "execution_count": 193,
   "metadata": {},
   "outputs": [
    {
     "data": {
      "image/png": "[encoded data removed]",
      "text/plain": [
       "<matplotlib.figure.Figure at 0x1129fd630>"
      ]
     },
     "metadata": {},
     "output_type": "display_data"
    }
   ],
   "source": [
    "import numpy as np\n",
    "import matplotlib.pyplot as plt\n",
    "\n",
    "H = np.array([[1, 2, 3, 4],\n",
    "              [5, 6, 7, 8],\n",
    "              [9, 10, 11, 12],\n",
    "              [13, 14, 15, 16]])  # added some commas and array creation code\n",
    "\n",
    "fig = plt.figure(figsize=(6, 3.2))\n",
    "\n",
    "ax = fig.add_subplot(111)\n",
    "ax.set_title('colorMap')\n",
    "plt.imshow(H)\n",
    "ax.set_aspect('equal')\n",
    "\n",
    "cax = fig.add_axes([0.12, 0.1, 0.78, 0.8])\n",
    "cax.get_xaxis().set_visible(False)\n",
    "cax.get_yaxis().set_visible(False)\n",
    "cax.patch.set_alpha(0)\n",
    "cax.set_frame_on(False)\n",
    "plt.colorbar(orientation='vertical')\n",
    "plt.show()\n"
   ]
  },
  {
   "cell_type": "code",
   "execution_count": null,
   "metadata": {},
   "outputs": [],
   "source": []
  }
 ],
 "metadata": {
  "kernelspec": {
   "display_name": "Python 3",
   "language": "python",
   "name": "python3"
  },
  "language_info": {
   "codemirror_mode": {
    "name": "ipython",
    "version": 3
   },
   "file_extension": ".py",
   "mimetype": "text/x-python",
   "name": "python",
   "nbconvert_exporter": "python",
   "pygments_lexer": "ipython3",
   "version": "3.6.4"
  }
 },
 "nbformat": 4,
 "nbformat_minor": 2
}
